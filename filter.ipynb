{
 "cells": [
  {
   "cell_type": "code",
   "execution_count": null,
   "id": "dea5335f",
   "metadata": {},
   "outputs": [],
   "source": [
    "import datetime\n",
    "import pandas as pd"
   ]
  },
  {
   "cell_type": "markdown",
   "id": "f89d303e",
   "metadata": {},
   "source": [
    "### Variables"
   ]
  },
  {
   "cell_type": "code",
   "execution_count": null,
   "id": "3975ee4d",
   "metadata": {},
   "outputs": [],
   "source": [
    "DATAFILE = 'malta.csv'\n",
    "CITIES_HOME = ['Katowice', 'Kraków', 'Poznań', 'Warszawa']\n",
    "CITIES_DEST = ['Valletta']\n",
    "NIGHTS_RANGE = range(6, 10)\n",
    "PRICE_MAX_ROUNDTRIP = 700\n",
    "HOLYDAYS = [\n",
    "    datetime.date(2025, 11, 8), datetime.date(2025, 11, 9), # weekend\n",
    "    datetime.date(2025, 11, 15), datetime.date(2025, 11, 16), # weekend\n",
    "    datetime.date(2025, 11, 22), datetime.date(2025, 11, 23), # weekend\n",
    "    datetime.date(2025, 11, 10), datetime.date(2025, 11, 11), # independence day\n",
    "]\n",
    "WORKDAY_HOUR_AFTER = 14\n",
    "ALLOW_STOPS = True"
   ]
  },
  {
   "cell_type": "markdown",
   "id": "9b42c1ba",
   "metadata": {},
   "source": [
    "### Data"
   ]
  },
  {
   "cell_type": "code",
   "execution_count": null,
   "id": "d6825285",
   "metadata": {},
   "outputs": [],
   "source": [
    "data = pd.read_csv(DATAFILE)\n",
    "data['departure'] = pd.to_datetime(data['departure'])\n",
    "data['arrival'] = pd.to_datetime(data['arrival'])\n",
    "data['duration'] = pd.to_timedelta(data['duration'])"
   ]
  },
  {
   "cell_type": "markdown",
   "id": "59931670",
   "metadata": {},
   "source": [
    "### Filter and pair up"
   ]
  },
  {
   "cell_type": "code",
   "execution_count": null,
   "id": "5bc43ea1",
   "metadata": {},
   "outputs": [],
   "source": [
    "# filter flights based on price, stops and time (no flight before specific hour on workdays)\n",
    "data = data[data['price'] < (PRICE_MAX_ROUNDTRIP - data['price'].min())]\n",
    "if not ALLOW_STOPS: data = data[data['stops'].isna()]\n",
    "data = data[data['departure'].dt.date.isin(HOLYDAYS) | (data['departure'].dt.hour >= WORKDAY_HOUR_AFTER)]\n",
    "\n",
    "# combine into pairs\n",
    "pairs = []\n",
    "outbound_flights = data[data['start'].isin(CITIES_HOME) & data['end'].isin(CITIES_DEST)]\n",
    "inbound_flights = data[data['start'].isin(CITIES_DEST) & data['end'].isin(CITIES_HOME)]\n",
    "for _, outbound in outbound_flights.iterrows():\n",
    "    for _, inbound in inbound_flights.iterrows():\n",
    "        nights = (inbound['departure'].date() - outbound['departure'].date()).days\n",
    "        if nights not in NIGHTS_RANGE: continue\n",
    "        price = outbound['price'] + inbound['price']\n",
    "        if price > PRICE_MAX_ROUNDTRIP: continue\n",
    "        # free days\n",
    "        free_days = sum(outbound['arrival'].date() < d < inbound['departure'].date() for d in HOLYDAYS)\n",
    "        if outbound['arrival'].date() in HOLYDAYS and outbound['arrival'].hour < 15: free_days += 1\n",
    "        if inbound['departure'].date() in HOLYDAYS and inbound['departure'].hour >= 15: free_days += 1\n",
    "        pairs.append({\n",
    "            **{f'out_{k}': v for k, v in outbound.to_dict().items()},\n",
    "            **{f'in_{k}': v for k, v in inbound.to_dict().items()},\n",
    "            'nights': nights,\n",
    "            'free_days': free_days,\n",
    "            'total_price': price\n",
    "        })\n",
    "pairs = pd.DataFrame(pairs)"
   ]
  },
  {
   "cell_type": "markdown",
   "id": "d735443c",
   "metadata": {},
   "source": [
    "### Display"
   ]
  },
  {
   "cell_type": "code",
   "execution_count": null,
   "id": "837fd206",
   "metadata": {},
   "outputs": [],
   "source": [
    "format_airport = lambda row, prefix: f\"{row[f'{prefix}_start']} -> {row[f'{prefix}_stops']} -> {row[f'{prefix}_end']}\" \\\n",
    "    if pd.notna(row[f'{prefix}_stops']) \\\n",
    "    else f\"{row[f'{prefix}_start']} -> {row[f'{prefix}_end']}\"\n",
    "format_date = lambda row, prefix: row[f'{prefix}_departure'].strftime('%a %d.%m.%Y')\n",
    "format_time = lambda row, prefix: f\"{row[f'{prefix}_departure'].strftime('%H:%M')}-{row[f'{prefix}_arrival'].strftime('%H:%M')}\"\n",
    "format_duration = lambda row, prefix: f\"{row[f'{prefix}_duration'].seconds // 3600}h {(row[f'{prefix}_duration'].seconds // 60) % 60}m\"\n",
    "\n",
    "flights = pd.DataFrame()\n",
    "flights['out_airport'] = pairs.apply(lambda row: format_airport(row, 'out'), axis=1)\n",
    "flights['out_date'] = pairs.apply(lambda row: format_date(row, 'out'), axis=1)\n",
    "flights['out_time'] = pairs.apply(lambda row: format_time(row, 'out') + ' (' + format_duration(row, 'out') + ')', axis=1)\n",
    "flights['nights'] = pairs['nights']\n",
    "flights['free_days'] = pairs['free_days']\n",
    "flights['in_airport'] = pairs.apply(lambda row: format_airport(row, 'in'), axis=1)\n",
    "flights['in_date'] = pairs.apply(lambda row: format_date(row, 'in'), axis=1)\n",
    "flights['in_time'] = pairs.apply(lambda row: format_time(row, 'in') + ' (' + format_duration(row, 'in') + ')', axis=1)\n",
    "flights['total_price'] = pairs['total_price']\n",
    "\n",
    "flights = flights.sort_values(by=['free_days', 'total_price'], ascending=[False, True])\n",
    "flights.reset_index(drop=True, inplace=True)\n",
    "flights"
   ]
  },
  {
   "cell_type": "code",
   "execution_count": null,
   "id": "0a0e0ffb",
   "metadata": {},
   "outputs": [],
   "source": [
    "flights[flights['free_days'] >= 5]"
   ]
  },
  {
   "cell_type": "code",
   "execution_count": null,
   "id": "50fe76cd",
   "metadata": {},
   "outputs": [],
   "source": []
  }
 ],
 "metadata": {
  "kernelspec": {
   "display_name": "Python 3",
   "language": "python",
   "name": "python3"
  },
  "language_info": {
   "codemirror_mode": {
    "name": "ipython",
    "version": 3
   },
   "file_extension": ".py",
   "mimetype": "text/x-python",
   "name": "python",
   "nbconvert_exporter": "python",
   "pygments_lexer": "ipython3",
   "version": "3.10.12"
  }
 },
 "nbformat": 4,
 "nbformat_minor": 5
}
